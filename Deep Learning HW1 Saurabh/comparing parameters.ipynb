{
  "cells": [
    {
      "cell_type": "code",
      "execution_count": 6,
      "metadata": {
        "id": "u2Z6yv1v6Uwi"
      },
      "outputs": [],
      "source": [
        "import torch\n",
        "import torch.nn as nn\n",
        "import torch.optim as optim\n",
        "from torchvision import datasets, transforms\n",
        "from torch.autograd import Variable\n",
        "from PIL import Image\n",
        "import torch.nn.functional as F\n",
        "import numpy as np\n",
        "import matplotlib.pyplot as plt\n",
        "import os"
      ]
    },
    {
      "cell_type": "code",
      "execution_count": 7,
      "metadata": {
        "id": "YDz1-gbg6Uwl"
      },
      "outputs": [],
      "source": [
        "torch.manual_seed(1)\n",
        "os.environ['KMP_DUPLICATE_LIB_OK']='True'"
      ]
    },
    {
      "cell_type": "code",
      "execution_count": 8,
      "metadata": {
        "id": "0zMRJ1bu6Uwm"
      },
      "outputs": [],
      "source": [
        "def load_data(train_batch_size, test_batch_size):\n",
        "    # Fetch training data: total 80000 samples\n",
        "\n",
        "    trainset = datasets.MNIST('data', train = True, download = True,\n",
        "                transform = transforms.Compose([\n",
        "                transforms.ToTensor()\n",
        "                ]))\n",
        "    train_loader = torch.utils.data.DataLoader(trainset, batch_size = train_batch_size, shuffle=True)\n",
        "\n",
        "    testset = datasets.MNIST('data', train = False, download = True,\n",
        "                transform = transforms.Compose([\n",
        "                transforms.ToTensor()\n",
        "                ]))\n",
        "    test_loader = torch.utils.data.DataLoader(testset ,batch_size = test_batch_size, shuffle=True)\n",
        "\n",
        "    return (train_loader, test_loader)"
      ]
    },
    {
      "cell_type": "code",
      "execution_count": 9,
      "metadata": {
        "id": "E0ur__NF6Uwm"
      },
      "outputs": [],
      "source": [
        "class Model1 (nn.Module):\n",
        "    def __init__(self):\n",
        "        super().__init__()\n",
        "        self.fc1 = nn.Linear(784, 5)\n",
        "        self.fc2 = nn.Linear(5, 9)\n",
        "        self.fc3 = nn.Linear(9, 10)\n",
        "\n",
        "    def forward(self, val):\n",
        "        val = F.relu(self.fc1(val))\n",
        "        val = F.relu(self.fc2(val))\n",
        "        val = self.fc3(val)\n",
        "        return val\n",
        "\n",
        "class Model2 (nn.Module):\n",
        "    def __init__(self):\n",
        "        super().__init__()\n",
        "        self.fc1 = nn.Linear(784, 25)\n",
        "        self.fc2 = nn.Linear(25, 50)\n",
        "        self.fc3 = nn.Linear(50, 10)\n",
        "\n",
        "    def forward(self, val):\n",
        "        val = F.relu(self.fc1(val))\n",
        "        val = F.relu(self.fc2(val))\n",
        "        val = self.fc3(val)\n",
        "        return val\n",
        "\n",
        "class Model3 (nn.Module):\n",
        "    def __init__(self):\n",
        "        super().__init__()\n",
        "        self.fc1 = nn.Linear(784, 50)\n",
        "        self.fc2 = nn.Linear(50, 100)\n",
        "        self.fc3 = nn.Linear(100, 10)\n",
        "\n",
        "    def forward(self, val):\n",
        "        val = F.relu(self.fc1(val))\n",
        "        val = F.relu(self.fc2(val))\n",
        "        val = self.fc3(val)\n",
        "        return val\n",
        "\n",
        "class Model4 (nn.Module):\n",
        "    def __init__(self):\n",
        "        super().__init__()\n",
        "        self.fc1 = nn.Linear(784, 60)\n",
        "        self.fc2 = nn.Linear(60, 120)\n",
        "        self.fc3 = nn.Linear(120, 10)\n",
        "\n",
        "    def forward(self, val):\n",
        "        val = F.relu(self.fc1(val))\n",
        "        val = F.relu(self.fc2(val))\n",
        "        val = self.fc3(val)\n",
        "        return val\n",
        "\n",
        "class Model5 (nn.Module):\n",
        "    def __init__(self):\n",
        "        super().__init__()\n",
        "        self.fc1 = nn.Linear(784, 100)\n",
        "        self.fc2 = nn.Linear(100, 200)\n",
        "        self.fc3 = nn.Linear(200, 10)\n",
        "\n",
        "    def forward(self, val):\n",
        "        val = F.relu(self.fc1(val))\n",
        "        val = F.relu(self.fc2(val))\n",
        "        val = self.fc3(val)\n",
        "        return val\n",
        "\n",
        "class Model6 (nn.Module):\n",
        "    def __init__(self):\n",
        "        super().__init__()\n",
        "        self.fc1 = nn.Linear(784, 150)\n",
        "        self.fc2 = nn.Linear(150, 300)\n",
        "        self.fc3 = nn.Linear(300, 10)\n",
        "\n",
        "    def forward(self, val):\n",
        "        val = F.relu(self.fc1(val))\n",
        "        val = F.relu(self.fc2(val))\n",
        "        val = self.fc3(val)\n",
        "        return val\n",
        "\n",
        "class Model7 (nn.Module):\n",
        "    def __init__(self):\n",
        "        super().__init__()\n",
        "        self.fc1 = nn.Linear(784, 200)\n",
        "        self.fc2 = nn.Linear(200, 400)\n",
        "        self.fc3 = nn.Linear(400, 10)\n",
        "\n",
        "    def forward(self, val):\n",
        "        val = F.relu(self.fc1(val))\n",
        "        val = F.relu(self.fc2(val))\n",
        "        val = self.fc3(val)\n",
        "        return val\n",
        "\n",
        "class Model8 (nn.Module):\n",
        "    def __init__(self):\n",
        "        super().__init__()\n",
        "        self.fc1 = nn.Linear(784, 250)\n",
        "        self.fc2 = nn.Linear(250, 500)\n",
        "        self.fc3 = nn.Linear(500, 10)\n",
        "\n",
        "    def forward(self, val):\n",
        "        val = F.relu(self.fc1(val))\n",
        "        val = F.relu(self.fc2(val))\n",
        "        val = self.fc3(val)\n",
        "        return val\n",
        "\n",
        "class Model9 (nn.Module):\n",
        "    def __init__(self):\n",
        "        super().__init__()\n",
        "        self.fc1 = nn.Linear(784, 280)\n",
        "        self.fc2 = nn.Linear(280, 560)\n",
        "        self.fc3 = nn.Linear(560, 10)\n",
        "\n",
        "    def forward(self, val):\n",
        "        val = F.relu(self.fc1(val))\n",
        "        val = F.relu(self.fc2(val))\n",
        "        val = self.fc3(val)\n",
        "        return val\n",
        "\n",
        "class Model10 (nn.Module):\n",
        "    def __init__(self):\n",
        "        super().__init__()\n",
        "        self.fc1 = nn.Linear(784, 350)\n",
        "        self.fc2 = nn.Linear(350, 600)\n",
        "        self.fc3 = nn.Linear(600, 10)\n",
        "\n",
        "    def forward(self, val):\n",
        "        val = F.relu(self.fc1(val))\n",
        "        val = F.relu(self.fc2(val))\n",
        "        val = self.fc3(val)\n",
        "        return val"
      ]
    },
    {
      "cell_type": "code",
      "execution_count": 10,
      "metadata": {
        "colab": {
          "base_uri": "https://localhost:8080/"
        },
        "id": "WmXs8CST6Uwn",
        "outputId": "e7500681-9d13-43ec-de70-e23d6d9db0e6"
      },
      "outputs": [
        {
          "output_type": "stream",
          "name": "stdout",
          "text": [
            "Downloading http://yann.lecun.com/exdb/mnist/train-images-idx3-ubyte.gz\n",
            "Downloading http://yann.lecun.com/exdb/mnist/train-images-idx3-ubyte.gz to data/MNIST/raw/train-images-idx3-ubyte.gz\n"
          ]
        },
        {
          "output_type": "stream",
          "name": "stderr",
          "text": [
            "100%|██████████| 9912422/9912422 [00:00<00:00, 108337510.18it/s]\n"
          ]
        },
        {
          "output_type": "stream",
          "name": "stdout",
          "text": [
            "Extracting data/MNIST/raw/train-images-idx3-ubyte.gz to data/MNIST/raw\n",
            "\n",
            "Downloading http://yann.lecun.com/exdb/mnist/train-labels-idx1-ubyte.gz\n",
            "Downloading http://yann.lecun.com/exdb/mnist/train-labels-idx1-ubyte.gz to data/MNIST/raw/train-labels-idx1-ubyte.gz\n"
          ]
        },
        {
          "output_type": "stream",
          "name": "stderr",
          "text": [
            "100%|██████████| 28881/28881 [00:00<00:00, 9515017.97it/s]\n"
          ]
        },
        {
          "output_type": "stream",
          "name": "stdout",
          "text": [
            "Extracting data/MNIST/raw/train-labels-idx1-ubyte.gz to data/MNIST/raw\n",
            "\n",
            "Downloading http://yann.lecun.com/exdb/mnist/t10k-images-idx3-ubyte.gz\n",
            "Downloading http://yann.lecun.com/exdb/mnist/t10k-images-idx3-ubyte.gz to data/MNIST/raw/t10k-images-idx3-ubyte.gz\n"
          ]
        },
        {
          "output_type": "stream",
          "name": "stderr",
          "text": [
            "100%|██████████| 1648877/1648877 [00:00<00:00, 33108131.61it/s]\n"
          ]
        },
        {
          "output_type": "stream",
          "name": "stdout",
          "text": [
            "Extracting data/MNIST/raw/t10k-images-idx3-ubyte.gz to data/MNIST/raw\n",
            "\n",
            "Downloading http://yann.lecun.com/exdb/mnist/t10k-labels-idx1-ubyte.gz\n",
            "Downloading http://yann.lecun.com/exdb/mnist/t10k-labels-idx1-ubyte.gz to data/MNIST/raw/t10k-labels-idx1-ubyte.gz\n"
          ]
        },
        {
          "output_type": "stream",
          "name": "stderr",
          "text": [
            "100%|██████████| 4542/4542 [00:00<00:00, 5235099.96it/s]\n"
          ]
        },
        {
          "output_type": "stream",
          "name": "stdout",
          "text": [
            "Extracting data/MNIST/raw/t10k-labels-idx1-ubyte.gz to data/MNIST/raw\n",
            "\n"
          ]
        }
      ],
      "source": [
        "train_batch_size = 50\n",
        "test_batch_size = 100\n",
        "train_loader, test_loader = load_data(train_batch_size, test_batch_size)\n",
        "epochs = 10"
      ]
    },
    {
      "cell_type": "code",
      "execution_count": 11,
      "metadata": {
        "id": "isLre9gl6Uwn"
      },
      "outputs": [],
      "source": [
        "def calc_params(model):\n",
        "    return sum(p.numel() for p in model.parameters())\n",
        "def define_optimizer(model):\n",
        "    return optim.Adam(model.parameters(), lr = 0.0001)"
      ]
    },
    {
      "cell_type": "code",
      "execution_count": 12,
      "metadata": {
        "id": "_UAPVzm56Uwo"
      },
      "outputs": [],
      "source": [
        "def train(model, optimizer, train_loader, loss_fn):\n",
        "    model.train()\n",
        "\n",
        "    for batch_idx, (data, target) in enumerate(train_loader):\n",
        "        data, target = Variable(data), Variable(target)\n",
        "        optimizer.zero_grad()\n",
        "\n",
        "        # Forward propagation\n",
        "        output = model(data.view(-1, 784))\n",
        "        loss = loss_fn(output, target)\n",
        "        loss.backward()\n",
        "        optimizer.step()"
      ]
    },
    {
      "cell_type": "code",
      "execution_count": 13,
      "metadata": {
        "id": "9g2ssDcs6Uwo"
      },
      "outputs": [],
      "source": [
        "def calculate_loss(model, loader, loss_fn):\n",
        "    correct = 0\n",
        "    total = 0\n",
        "    costTotal = 0\n",
        "    costCounter = 0\n",
        "    with torch.no_grad():\n",
        "        for batch in loader:\n",
        "            data, target = batch\n",
        "            output = model(data.view(-1, 784))\n",
        "            cost = loss_fn(output, target)\n",
        "            costTotal += cost\n",
        "            costCounter += 1\n",
        "            for i, outputTensor in enumerate(output):\n",
        "                if torch.argmax(outputTensor) == target[i]:\n",
        "                    correct += 1\n",
        "                total += 1\n",
        "    return costTotal / costCounter, round(correct/total, 3)"
      ]
    },
    {
      "cell_type": "code",
      "execution_count": 14,
      "metadata": {
        "id": "3pMhQGLQ6Uwo"
      },
      "outputs": [],
      "source": [
        "def compute(model, optimizer):\n",
        "    loss_fn = torch.nn.CrossEntropyLoss()\n",
        "    for epoch in range(1, epochs + 1):\n",
        "        train(model, optimizer, train_loader, loss_fn)\n",
        "        train_loss, train_acc = calculate_loss(model, train_loader, loss_fn)\n",
        "        test_loss, test_acc = calculate_loss(model, test_loader, loss_fn)\n",
        "    loss_train_arr.append(train_loss)\n",
        "    loss_test_arr.append(test_loss)\n",
        "    param_arr.append(calc_params(model))\n",
        "    print(\"Model Train loss: \", train_loss)\n",
        "    print(\"Model Test loss: \", test_loss)\n",
        "    train_acc_arr.append(train_acc)\n",
        "    test_acc_arr.append(test_acc)\n"
      ]
    },
    {
      "cell_type": "code",
      "execution_count": 15,
      "metadata": {
        "id": "AcauVaM_6Uwp"
      },
      "outputs": [],
      "source": [
        "loss_train_arr = []\n",
        "loss_test_arr = []\n",
        "param_arr = []\n",
        "test_acc_arr = []\n",
        "train_acc_arr = []"
      ]
    },
    {
      "cell_type": "code",
      "execution_count": 16,
      "metadata": {
        "colab": {
          "base_uri": "https://localhost:8080/"
        },
        "id": "yNrz83rF6Uwp",
        "outputId": "bb6c7956-8061-4380-b895-7ad481d8bf90"
      },
      "outputs": [
        {
          "output_type": "stream",
          "name": "stdout",
          "text": [
            "Model 1 parameters:  4079\n",
            "Model Train loss:  tensor(0.5745)\n",
            "Model Test loss:  tensor(0.5505)\n",
            "Model 2 parameters:  21435\n",
            "Model Train loss:  tensor(0.2173)\n",
            "Model Test loss:  tensor(0.2159)\n",
            "Model 3 parameters:  45360\n",
            "Model Train loss:  tensor(0.1772)\n",
            "Model Test loss:  tensor(0.1831)\n",
            "Model 4 parameters:  55630\n",
            "Model Train loss:  tensor(0.1565)\n",
            "Model Test loss:  tensor(0.1640)\n",
            "Model 5 parameters:  100710\n",
            "Model Train loss:  tensor(0.1188)\n",
            "Model Test loss:  tensor(0.1296)\n",
            "Model 6 parameters:  166060\n",
            "Model Train loss:  tensor(0.0878)\n",
            "Model Test loss:  tensor(0.1016)\n",
            "Model 7 parameters:  241410\n",
            "Model Train loss:  tensor(0.0618)\n",
            "Model Test loss:  tensor(0.0853)\n",
            "Model 8 parameters:  326760\n",
            "Model Train loss:  tensor(0.0517)\n",
            "Model Test loss:  tensor(0.0809)\n",
            "Model 9 parameters:  382770\n",
            "Model Train loss:  tensor(0.0451)\n",
            "Model Test loss:  tensor(0.0744)\n",
            "Model 10 parameters:  491360\n",
            "Model Train loss:  tensor(0.0369)\n",
            "Model Test loss:  tensor(0.0732)\n"
          ]
        }
      ],
      "source": [
        "model1 = Model1()\n",
        "print(\"Model 1 parameters: \", (calc_params(model1)))\n",
        "optimizer = define_optimizer(model1)\n",
        "compute(model1, optimizer)\n",
        "\n",
        "model2 = Model2()\n",
        "torch.manual_seed(1)\n",
        "print(\"Model 2 parameters: \", (calc_params(model2)))\n",
        "optimizer = define_optimizer(model2)\n",
        "compute(model2, optimizer)\n",
        "\n",
        "model3 = Model3()\n",
        "torch.manual_seed(1)\n",
        "print(\"Model 3 parameters: \", (calc_params(model3)))\n",
        "optimizer = define_optimizer(model3)\n",
        "compute(model3, optimizer)\n",
        "\n",
        "model4 = Model4()\n",
        "torch.manual_seed(1)\n",
        "print(\"Model 4 parameters: \", (calc_params(model4)))\n",
        "optimizer = define_optimizer(model4)\n",
        "compute(model4, optimizer)\n",
        "\n",
        "model5 = Model5()\n",
        "torch.manual_seed(1)\n",
        "print(\"Model 5 parameters: \", (calc_params(model5)))\n",
        "optimizer = define_optimizer(model5)\n",
        "compute(model5, optimizer)\n",
        "\n",
        "model6 = Model6()\n",
        "torch.manual_seed(1)\n",
        "print(\"Model 6 parameters: \", (calc_params(model6)))\n",
        "optimizer = define_optimizer(model6)\n",
        "compute(model6, optimizer)\n",
        "\n",
        "model7 = Model7()\n",
        "torch.manual_seed(1)\n",
        "print(\"Model 7 parameters: \", (calc_params(model7)))\n",
        "optimizer = define_optimizer(model7)\n",
        "compute(model7, optimizer)\n",
        "\n",
        "model8 = Model8()\n",
        "torch.manual_seed(1)\n",
        "print(\"Model 8 parameters: \", (calc_params(model8)))\n",
        "optimizer = define_optimizer(model8)\n",
        "compute(model8, optimizer)\n",
        "\n",
        "model9 = Model9()\n",
        "torch.manual_seed(1)\n",
        "print(\"Model 9 parameters: \", (calc_params(model9)))\n",
        "optimizer = define_optimizer(model9)\n",
        "compute(model9, optimizer)\n",
        "\n",
        "model10 = Model10()\n",
        "torch.manual_seed(1)\n",
        "print(\"Model 10 parameters: \", (calc_params(model10)))\n",
        "optimizer = define_optimizer(model10)\n",
        "compute(model10, optimizer)"
      ]
    },
    {
      "cell_type": "code",
      "execution_count": 17,
      "metadata": {
        "id": "YaEOpSio6Uwq"
      },
      "outputs": [],
      "source": [
        "temp_1 = []\n",
        "for i in loss_train_arr:\n",
        "    temp_1.append(i.data.numpy().tolist())\n",
        "\n",
        "temp_2 = []\n",
        "for i in loss_test_arr:\n",
        "    temp_2.append(i.data.numpy().tolist())"
      ]
    },
    {
      "cell_type": "code",
      "execution_count": 18,
      "metadata": {
        "colab": {
          "base_uri": "https://localhost:8080/",
          "height": 564
        },
        "id": "c_ggXb1W6Uwq",
        "outputId": "e7abd234-ffc8-45aa-b468-2a1884aca0c7"
      },
      "outputs": [
        {
          "output_type": "display_data",
          "data": {
            "text/plain": [
              "<Figure size 1200x600 with 1 Axes>"
            ],
            "image/png": "[encoded data removed]"
          },
          "metadata": {}
        }
      ],
      "source": [
        "plt.figure(figsize=(12,6))\n",
        "plt.scatter(param_arr, temp_1, color = \"r\")\n",
        "plt.scatter(param_arr, temp_2, color = \"g\")\n",
        "plt.title('Model Loss Comparision')\n",
        "plt.legend(['Train Loss', 'Test Loss'])\n",
        "plt.xlabel('Parameters')\n",
        "plt.ylabel('Loss')\n",
        "plt.show()"
      ]
    },
    {
      "cell_type": "code",
      "execution_count": 19,
      "metadata": {
        "colab": {
          "base_uri": "https://localhost:8080/",
          "height": 564
        },
        "id": "wxFIt0OB6Uwq",
        "outputId": "ade27714-3685-4725-aae1-21a760fd8904"
      },
      "outputs": [
        {
          "output_type": "display_data",
          "data": {
            "text/plain": [
              "<Figure size 1200x600 with 1 Axes>"
            ],
            "image/png": "[encoded data removed]"
          },
          "metadata": {}
        }
      ],
      "source": [
        "plt.figure(figsize=(12,6))\n",
        "plt.scatter(param_arr, train_acc_arr, color = \"r\")\n",
        "plt.scatter(param_arr, test_acc_arr, color = \"g\")\n",
        "plt.title('Model Acc Comparision')\n",
        "plt.legend(['Train Accuracy', 'Test Accuracy'])\n",
        "plt.xlabel('Parameters')\n",
        "plt.ylabel('Accuracy')\n",
        "plt.show()"
      ]
    },
    {
      "cell_type": "code",
      "execution_count": 19,
      "metadata": {
        "id": "LjlE38dD6Uwq"
      },
      "outputs": [],
      "source": []
    }
  ],
  "metadata": {
    "interpreter": {
      "hash": "5bcb6c7cbbdabfbd239545406bf14933d83f61910dc16e50b2bdd97eecb45211"
    },
    "kernelspec": {
      "display_name": "Python 3.9.7 ('pytube')",
      "language": "python",
      "name": "python3"
    },
    "language_info": {
      "codemirror_mode": {
        "name": "ipython",
        "version": 3
      },
      "file_extension": ".py",
      "mimetype": "text/x-python",
      "name": "python",
      "nbconvert_exporter": "python",
      "pygments_lexer": "ipython3",
      "version": "3.8.3"
    },
    "orig_nbformat": 4,
    "colab": {
      "provenance": []
    }
  },
  "nbformat": 4,
  "nbformat_minor": 0
}