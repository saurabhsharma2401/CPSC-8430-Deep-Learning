{
 "cells": [
  {
   "cell_type": "code",
   "execution_count": 1,
   "metadata": {
    "id": "ylvuDSl0nWbX"
   },
   "outputs": [],
   "source": [
    "import torch\n",
    "import torch.nn as nn\n",
    "import torch.optim as optim\n",
    "from torchvision import datasets, transforms\n",
    "from torch.autograd import Variable\n",
    "from PIL import Image\n",
    "import torch.nn.functional as F\n",
    "import numpy as np\n",
    "import matplotlib.pyplot as plt\n",
    "import os"
   ]
  },
  {
   "cell_type": "code",
   "execution_count": 2,
   "metadata": {
    "id": "ALDrCsC4nWbZ"
   },
   "outputs": [],
   "source": [
    "torch.manual_seed(1)\n",
    "os.environ['KMP_DUPLICATE_LIB_OK'] ='True'"
   ]
  },
  {
   "cell_type": "code",
   "execution_count": 17,
   "metadata": {
    "id": "B70pPzzQnWba"
   },
   "outputs": [],
   "source": [
    "def load_data(train_batch_size, test_batch_size):\n",
    "    # Fetch training data: total = 80000 samples\n",
    "    train_loader = torch.utils.data.DataLoader(\n",
    "        datasets.MNIST('data', train=True, download=True,\n",
    "                       transform=transforms.Compose([\n",
    "                           transforms.Resize((32, 32)),\n",
    "                           transforms.ToTensor(),\n",
    "                           transforms.Normalize((0.1307,), (0.3081,))\n",
    "                       ])),\n",
    "        batch_size=train_batch_size, shuffle=True)\n",
    "\n",
    "\n",
    "    # Fetch test data: total 20000 samples\n",
    "    test_loader = torch.utils.data.DataLoader(\n",
    "        datasets.MNIST('data', train=False, transform=transforms.Compose([\n",
    "            transforms.Resize((32, 32)),\n",
    "            transforms.ToTensor(),\n",
    "            transforms.Normalize((0.1307,), (0.3081,))\n",
    "        ])),\n",
    "        batch_size=test_batch_size, shuffle=True)\n",
    "\n",
    "    return (train_loader, test_loader)"
   ]
  },
  {
   "cell_type": "code",
   "execution_count": 18,
   "metadata": {
    "id": "M3Su_lCtnWba"
   },
   "outputs": [],
   "source": [
    "class LeNet(nn.Module):\n",
    "  #classic LeNet architecture\n",
    "    def __init__(self):\n",
    "        super(LeNet, self).__init__()\n",
    "\n",
    "        self.conv1 = nn.Conv2d(1, 6, 5)\n",
    "        self.conv2 = nn.Conv2d(6, 16, 5)\n",
    "        self.fc1 = nn.Linear(16 * 5 * 5, 120)\n",
    "        self.fc2 = nn.Linear(120, 84)\n",
    "        self.fc3 = nn.Linear(84, 10)\n",
    "\n",
    "    def forward(self, x):\n",
    "        x = F.max_pool2d(F.relu(self.conv1(x)), 2)\n",
    "        x = F.max_pool2d(F.relu(self.conv2(x)), 2)\n",
    "        # flatten as one dimension\n",
    "        x = x.view(x.size()[0], -1)\n",
    "        x = F.relu(self.fc1(x))\n",
    "        x = F.relu(self.fc2(x))\n",
    "\n",
    "        x = self.fc3(x)\n",
    "        return x"
   ]
  },
  {
   "cell_type": "code",
   "execution_count": 19,
   "metadata": {
    "id": "27MyCwoqnWba"
   },
   "outputs": [],
   "source": [
    "class CNN(nn.Module):\n",
    "    def __init__(self):\n",
    "        super(CNN, self).__init__()\n",
    "        #defining the convolution layers\n",
    "        self.conv1 = nn.Conv2d(1, 32, 5)\n",
    "        self.conv2 = nn.Conv2d(32, 32, 5)\n",
    "        self.conv3 = nn.Conv2d(32, 64, 5)\n",
    "        self.fc1 = nn.Linear(1024, 256)\n",
    "        self.fc2 = nn.Linear(256, 10)\n",
    "\n",
    "    def forward(self, x):\n",
    "        x = F.relu(self.conv1(x))\n",
    "        x = F.relu(F.max_pool2d(self.conv2(x), 2))\n",
    "        x = F.dropout(x, p=0.5, training=self.training)\n",
    "        x = F.relu(F.max_pool2d(self.conv3(x),2))\n",
    "        x = F.dropout(x, p=0.5, training=self.training)\n",
    "\n",
    "        # flattening\n",
    "        x = x.view(x.size()[0], -1)\n",
    "        x = F.relu(self.fc1(x))\n",
    "        x = F.dropout(x, training=self.training)\n",
    "        x = self.fc2(x)\n",
    "        return F.log_softmax(x, dim=1)"
   ]
  },
  {
   "cell_type": "code",
   "execution_count": 6,
   "metadata": {
    "colab": {
     "base_uri": "https://localhost:8080/"
    },
    "id": "PBCJMSGonWba",
    "outputId": "3e4429ed-aef7-451f-ef0d-1f3d3491ca8f"
   },
   "outputs": [
    {
     "name": "stdout",
     "output_type": "stream",
     "text": [
      "Downloading http://yann.lecun.com/exdb/mnist/train-images-idx3-ubyte.gz\n",
      "Downloading http://yann.lecun.com/exdb/mnist/train-images-idx3-ubyte.gz to data/MNIST/raw/train-images-idx3-ubyte.gz\n"
     ]
    },
    {
     "name": "stderr",
     "output_type": "stream",
     "text": [
      "100%|██████████| 9912422/9912422 [00:00<00:00, 102947125.19it/s]\n"
     ]
    },
    {
     "name": "stdout",
     "output_type": "stream",
     "text": [
      "Extracting data/MNIST/raw/train-images-idx3-ubyte.gz to data/MNIST/raw\n",
      "\n",
      "Downloading http://yann.lecun.com/exdb/mnist/train-labels-idx1-ubyte.gz\n",
      "Downloading http://yann.lecun.com/exdb/mnist/train-labels-idx1-ubyte.gz to data/MNIST/raw/train-labels-idx1-ubyte.gz\n"
     ]
    },
    {
     "name": "stderr",
     "output_type": "stream",
     "text": [
      "100%|██████████| 28881/28881 [00:00<00:00, 46358857.18it/s]"
     ]
    },
    {
     "name": "stdout",
     "output_type": "stream",
     "text": [
      "Extracting data/MNIST/raw/train-labels-idx1-ubyte.gz to data/MNIST/raw\n",
      "\n",
      "Downloading http://yann.lecun.com/exdb/mnist/t10k-images-idx3-ubyte.gz\n",
      "Downloading http://yann.lecun.com/exdb/mnist/t10k-images-idx3-ubyte.gz to data/MNIST/raw/t10k-images-idx3-ubyte.gz\n"
     ]
    },
    {
     "name": "stderr",
     "output_type": "stream",
     "text": [
      "\n",
      "100%|██████████| 1648877/1648877 [00:00<00:00, 26980947.61it/s]\n"
     ]
    },
    {
     "name": "stdout",
     "output_type": "stream",
     "text": [
      "Extracting data/MNIST/raw/t10k-images-idx3-ubyte.gz to data/MNIST/raw\n",
      "\n",
      "Downloading http://yann.lecun.com/exdb/mnist/t10k-labels-idx1-ubyte.gz\n",
      "Downloading http://yann.lecun.com/exdb/mnist/t10k-labels-idx1-ubyte.gz to data/MNIST/raw/t10k-labels-idx1-ubyte.gz\n"
     ]
    },
    {
     "name": "stderr",
     "output_type": "stream",
     "text": [
      "100%|██████████| 4542/4542 [00:00<00:00, 4540164.15it/s]\n"
     ]
    },
    {
     "name": "stdout",
     "output_type": "stream",
     "text": [
      "Extracting data/MNIST/raw/t10k-labels-idx1-ubyte.gz to data/MNIST/raw\n",
      "\n"
     ]
    }
   ],
   "source": [
    "train_batch_size = 64\n",
    "test_batch_size = 1000\n",
    "train_loader, test_loader = load_data(train_batch_size, test_batch_size)"
   ]
  },
  {
   "cell_type": "code",
   "execution_count": 7,
   "metadata": {
    "id": "u7ScWbqUnWbb"
   },
   "outputs": [],
   "source": [
    "def train(model, optimizer, epoch, train_loader, log_interval):\n",
    "    model.train()\n",
    "    loss_fn = torch.nn.CrossEntropyLoss()\n",
    "    n_correct = 0\n",
    "    train_loss = 0\n",
    "    counter = 0\n",
    "    n_samples = 0\n",
    "\n",
    "    for batch_idx, (data, target) in enumerate(train_loader):\n",
    "        counter += 1\n",
    "        data, target = Variable(data), Variable(target)\n",
    "        optimizer.zero_grad()\n",
    "\n",
    "        # Forward propagation\n",
    "        output = model(data)\n",
    "        loss = loss_fn(output, target)\n",
    "        loss.backward()\n",
    "        optimizer.step()\n",
    "\n",
    "        train_loss += loss.data\n",
    "\n",
    "        pred = np.argmax(output.data, axis=1)\n",
    "        n_samples += target.size(0)\n",
    "        n_correct += (pred == target).sum().item()\n",
    "        acc = 100.0 * n_correct / n_samples\n",
    "\n",
    "        # print log\n",
    "        if batch_idx % log_interval == 0:\n",
    "            print('Train set, Epoch {} [{}/{}]\\tLoss: {:.6f}'.format(\n",
    "                epoch, batch_idx * len(data), len(train_loader.dataset),\n",
    "                loss.data))\n",
    "            print(\"Train Accuracy: \", round(acc,2))\n",
    "    train_loss /= counter\n",
    "    return train_loss, round(acc,2)"
   ]
  },
  {
   "cell_type": "code",
   "execution_count": 8,
   "metadata": {
    "id": "hlETJvR3nWbb"
   },
   "outputs": [],
   "source": [
    "def test(model, epoch, test_loader):\n",
    "    model.eval()\n",
    "    test_loss = 0\n",
    "    correct = 0\n",
    "\n",
    "    loss_fn = torch.nn.CrossEntropyLoss(size_average=False)\n",
    "\n",
    "    for data, target in test_loader:\n",
    "        data, target = Variable(data), Variable(target)\n",
    "\n",
    "        output = model(data)\n",
    "        test_loss += loss_fn(output, target).data\n",
    "\n",
    "        pred = np.argmax(output.data, axis=1)\n",
    "        correct = correct + np.equal(pred, target.data).sum()\n",
    "\n",
    "    # Print log\n",
    "    test_loss /= len(test_loader.dataset)\n",
    "    print('\\nTest set, Epoch {} , Average loss: {:.4f}, Accuracy: {}/{} ({:.0f}%)\\n'.format(epoch,\n",
    "        test_loss, correct, len(test_loader.dataset),\n",
    "        100. * correct / len(test_loader.dataset)))"
   ]
  },
  {
   "cell_type": "code",
   "execution_count": 9,
   "metadata": {
    "colab": {
     "base_uri": "https://localhost:8080/"
    },
    "id": "gcMNcx9BnWbb",
    "outputId": "215bed6b-580d-4098-ffae-ac383a1f5bd1"
   },
   "outputs": [
    {
     "name": "stdout",
     "output_type": "stream",
     "text": [
      "Train set, Epoch 1 [0/60000]\tLoss: 2.322258\n",
      "Train Accuracy:  10.94\n",
      "Train set, Epoch 1 [12800/60000]\tLoss: 0.386213\n",
      "Train Accuracy:  46.49\n",
      "Train set, Epoch 1 [25600/60000]\tLoss: 0.314255\n",
      "Train Accuracy:  66.1\n",
      "Train set, Epoch 1 [38400/60000]\tLoss: 0.254936\n",
      "Train Accuracy:  74.59\n",
      "Train set, Epoch 1 [51200/60000]\tLoss: 0.254360\n",
      "Train Accuracy:  79.36\n"
     ]
    },
    {
     "name": "stderr",
     "output_type": "stream",
     "text": [
      "/usr/local/lib/python3.10/dist-packages/torch/nn/_reduction.py:42: UserWarning: size_average and reduce args will be deprecated, please use reduction='sum' instead.\n",
      "  warnings.warn(warning.format(ret))\n"
     ]
    },
    {
     "name": "stdout",
     "output_type": "stream",
     "text": [
      "\n",
      "Test set, Epoch 1 , Average loss: 0.1386, Accuracy: 9587/10000 (96%)\n",
      "\n",
      "Train set, Epoch 2 [0/60000]\tLoss: 0.162889\n",
      "Train Accuracy:  93.75\n",
      "Train set, Epoch 2 [12800/60000]\tLoss: 0.137156\n",
      "Train Accuracy:  95.38\n",
      "Train set, Epoch 2 [25600/60000]\tLoss: 0.367145\n",
      "Train Accuracy:  95.65\n",
      "Train set, Epoch 2 [38400/60000]\tLoss: 0.092661\n",
      "Train Accuracy:  95.88\n",
      "Train set, Epoch 2 [51200/60000]\tLoss: 0.112133\n",
      "Train Accuracy:  96.11\n",
      "\n",
      "Test set, Epoch 2 , Average loss: 0.0792, Accuracy: 9759/10000 (98%)\n",
      "\n",
      "Train set, Epoch 3 [0/60000]\tLoss: 0.026601\n",
      "Train Accuracy:  100.0\n",
      "Train set, Epoch 3 [12800/60000]\tLoss: 0.076437\n",
      "Train Accuracy:  97.3\n",
      "Train set, Epoch 3 [25600/60000]\tLoss: 0.047491\n",
      "Train Accuracy:  97.25\n",
      "Train set, Epoch 3 [38400/60000]\tLoss: 0.033118\n",
      "Train Accuracy:  97.36\n",
      "Train set, Epoch 3 [51200/60000]\tLoss: 0.075814\n",
      "Train Accuracy:  97.38\n",
      "\n",
      "Test set, Epoch 3 , Average loss: 0.0657, Accuracy: 9784/10000 (98%)\n",
      "\n",
      "Train set, Epoch 4 [0/60000]\tLoss: 0.108088\n",
      "Train Accuracy:  98.44\n",
      "Train set, Epoch 4 [12800/60000]\tLoss: 0.148065\n",
      "Train Accuracy:  97.94\n",
      "Train set, Epoch 4 [25600/60000]\tLoss: 0.080309\n",
      "Train Accuracy:  98.02\n",
      "Train set, Epoch 4 [38400/60000]\tLoss: 0.196928\n",
      "Train Accuracy:  98.07\n",
      "Train set, Epoch 4 [51200/60000]\tLoss: 0.090035\n",
      "Train Accuracy:  98.07\n",
      "\n",
      "Test set, Epoch 4 , Average loss: 0.0521, Accuracy: 9836/10000 (98%)\n",
      "\n",
      "Train set, Epoch 5 [0/60000]\tLoss: 0.014358\n",
      "Train Accuracy:  100.0\n",
      "Train set, Epoch 5 [12800/60000]\tLoss: 0.030069\n",
      "Train Accuracy:  98.34\n",
      "Train set, Epoch 5 [25600/60000]\tLoss: 0.081879\n",
      "Train Accuracy:  98.32\n",
      "Train set, Epoch 5 [38400/60000]\tLoss: 0.007076\n",
      "Train Accuracy:  98.35\n",
      "Train set, Epoch 5 [51200/60000]\tLoss: 0.010985\n",
      "Train Accuracy:  98.32\n",
      "\n",
      "Test set, Epoch 5 , Average loss: 0.0480, Accuracy: 9841/10000 (98%)\n",
      "\n",
      "Train set, Epoch 6 [0/60000]\tLoss: 0.053292\n",
      "Train Accuracy:  98.44\n",
      "Train set, Epoch 6 [12800/60000]\tLoss: 0.080944\n",
      "Train Accuracy:  98.65\n",
      "Train set, Epoch 6 [25600/60000]\tLoss: 0.022031\n",
      "Train Accuracy:  98.66\n",
      "Train set, Epoch 6 [38400/60000]\tLoss: 0.010159\n",
      "Train Accuracy:  98.61\n",
      "Train set, Epoch 6 [51200/60000]\tLoss: 0.087933\n",
      "Train Accuracy:  98.64\n",
      "\n",
      "Test set, Epoch 6 , Average loss: 0.0410, Accuracy: 9878/10000 (99%)\n",
      "\n",
      "Train set, Epoch 7 [0/60000]\tLoss: 0.053561\n",
      "Train Accuracy:  96.88\n",
      "Train set, Epoch 7 [12800/60000]\tLoss: 0.026879\n",
      "Train Accuracy:  98.83\n",
      "Train set, Epoch 7 [25600/60000]\tLoss: 0.028638\n",
      "Train Accuracy:  98.77\n",
      "Train set, Epoch 7 [38400/60000]\tLoss: 0.015048\n",
      "Train Accuracy:  98.69\n",
      "Train set, Epoch 7 [51200/60000]\tLoss: 0.004835\n",
      "Train Accuracy:  98.71\n",
      "\n",
      "Test set, Epoch 7 , Average loss: 0.0397, Accuracy: 9881/10000 (99%)\n",
      "\n",
      "Train set, Epoch 8 [0/60000]\tLoss: 0.030217\n",
      "Train Accuracy:  100.0\n",
      "Train set, Epoch 8 [12800/60000]\tLoss: 0.005746\n",
      "Train Accuracy:  98.93\n",
      "Train set, Epoch 8 [25600/60000]\tLoss: 0.014310\n",
      "Train Accuracy:  98.84\n",
      "Train set, Epoch 8 [38400/60000]\tLoss: 0.070000\n",
      "Train Accuracy:  98.84\n",
      "Train set, Epoch 8 [51200/60000]\tLoss: 0.022357\n",
      "Train Accuracy:  98.84\n",
      "\n",
      "Test set, Epoch 8 , Average loss: 0.0369, Accuracy: 9893/10000 (99%)\n",
      "\n",
      "Train set, Epoch 9 [0/60000]\tLoss: 0.007359\n",
      "Train Accuracy:  100.0\n",
      "Train set, Epoch 9 [12800/60000]\tLoss: 0.001505\n",
      "Train Accuracy:  99.13\n",
      "Train set, Epoch 9 [25600/60000]\tLoss: 0.036801\n",
      "Train Accuracy:  99.15\n",
      "Train set, Epoch 9 [38400/60000]\tLoss: 0.013598\n",
      "Train Accuracy:  99.08\n",
      "Train set, Epoch 9 [51200/60000]\tLoss: 0.002597\n",
      "Train Accuracy:  99.05\n",
      "\n",
      "Test set, Epoch 9 , Average loss: 0.0396, Accuracy: 9877/10000 (99%)\n",
      "\n",
      "Train set, Epoch 10 [0/60000]\tLoss: 0.003289\n",
      "Train Accuracy:  100.0\n",
      "Train set, Epoch 10 [12800/60000]\tLoss: 0.009850\n",
      "Train Accuracy:  99.12\n",
      "Train set, Epoch 10 [25600/60000]\tLoss: 0.006522\n",
      "Train Accuracy:  99.11\n",
      "Train set, Epoch 10 [38400/60000]\tLoss: 0.002663\n",
      "Train Accuracy:  99.14\n",
      "Train set, Epoch 10 [51200/60000]\tLoss: 0.011537\n",
      "Train Accuracy:  99.1\n",
      "\n",
      "Test set, Epoch 10 , Average loss: 0.0406, Accuracy: 9877/10000 (99%)\n",
      "\n"
     ]
    }
   ],
   "source": [
    "torch.manual_seed(1)\n",
    "model= LeNet()\n",
    "\n",
    "lr = 0.01\n",
    "momentum = 0.5\n",
    "optimizer = optim.SGD(model.parameters(), lr, momentum)\n",
    "m0_loss_arr = []\n",
    "m0_acc_arr = []\n",
    "\n",
    "epochs = 10\n",
    "log_interval = 200\n",
    "for epoch in range(1, epochs + 1):\n",
    "    loss, acc = train(model, optimizer, epoch, train_loader, log_interval)\n",
    "    m0_loss_arr.append(loss)\n",
    "    m0_acc_arr.append(acc)\n",
    "    test(model, epoch, test_loader)"
   ]
  },
  {
   "cell_type": "code",
   "execution_count": 10,
   "metadata": {
    "colab": {
     "base_uri": "https://localhost:8080/"
    },
    "id": "eAwL7-02nWbc",
    "outputId": "8466ca0e-32ec-4104-b31c-0aaa17dee218"
   },
   "outputs": [
    {
     "name": "stdout",
     "output_type": "stream",
     "text": [
      "Train set, Epoch 1 [0/60000]\tLoss: 2.315159\n",
      "Train Accuracy:  6.25\n",
      "Train set, Epoch 1 [6400/60000]\tLoss: 1.546553\n",
      "Train Accuracy:  24.55\n",
      "Train set, Epoch 1 [12800/60000]\tLoss: 0.937833\n",
      "Train Accuracy:  45.67\n",
      "Train set, Epoch 1 [19200/60000]\tLoss: 0.395668\n",
      "Train Accuracy:  57.38\n",
      "Train set, Epoch 1 [25600/60000]\tLoss: 0.399938\n",
      "Train Accuracy:  64.44\n",
      "Train set, Epoch 1 [32000/60000]\tLoss: 0.283560\n",
      "Train Accuracy:  68.95\n",
      "Train set, Epoch 1 [38400/60000]\tLoss: 0.389888\n",
      "Train Accuracy:  72.25\n",
      "Train set, Epoch 1 [44800/60000]\tLoss: 0.292979\n",
      "Train Accuracy:  74.87\n",
      "Train set, Epoch 1 [51200/60000]\tLoss: 0.278341\n",
      "Train Accuracy:  76.87\n",
      "Train set, Epoch 1 [57600/60000]\tLoss: 0.469724\n",
      "Train Accuracy:  78.54\n",
      "\n",
      "Test set, Epoch 1 , Average loss: 0.1214, Accuracy: 9629/10000 (96%)\n",
      "\n",
      "Train set, Epoch 2 [0/60000]\tLoss: 0.256758\n",
      "Train Accuracy:  93.75\n",
      "Train set, Epoch 2 [6400/60000]\tLoss: 0.222492\n",
      "Train Accuracy:  93.21\n",
      "Train set, Epoch 2 [12800/60000]\tLoss: 0.153303\n",
      "Train Accuracy:  93.24\n",
      "Train set, Epoch 2 [19200/60000]\tLoss: 0.178341\n",
      "Train Accuracy:  93.31\n",
      "Train set, Epoch 2 [25600/60000]\tLoss: 0.165763\n",
      "Train Accuracy:  93.45\n",
      "Train set, Epoch 2 [32000/60000]\tLoss: 0.163262\n",
      "Train Accuracy:  93.6\n",
      "Train set, Epoch 2 [38400/60000]\tLoss: 0.297185\n",
      "Train Accuracy:  93.75\n",
      "Train set, Epoch 2 [44800/60000]\tLoss: 0.296080\n",
      "Train Accuracy:  93.85\n",
      "Train set, Epoch 2 [51200/60000]\tLoss: 0.159591\n",
      "Train Accuracy:  93.97\n",
      "Train set, Epoch 2 [57600/60000]\tLoss: 0.102071\n",
      "Train Accuracy:  94.09\n",
      "\n",
      "Test set, Epoch 2 , Average loss: 0.0726, Accuracy: 9778/10000 (98%)\n",
      "\n",
      "Train set, Epoch 3 [0/60000]\tLoss: 0.105987\n",
      "Train Accuracy:  96.88\n",
      "Train set, Epoch 3 [6400/60000]\tLoss: 0.178031\n",
      "Train Accuracy:  95.05\n",
      "Train set, Epoch 3 [12800/60000]\tLoss: 0.145396\n",
      "Train Accuracy:  95.25\n",
      "Train set, Epoch 3 [19200/60000]\tLoss: 0.236954\n",
      "Train Accuracy:  95.3\n",
      "Train set, Epoch 3 [25600/60000]\tLoss: 0.071723\n",
      "Train Accuracy:  95.39\n",
      "Train set, Epoch 3 [32000/60000]\tLoss: 0.159771\n",
      "Train Accuracy:  95.42\n",
      "Train set, Epoch 3 [38400/60000]\tLoss: 0.109630\n",
      "Train Accuracy:  95.41\n",
      "Train set, Epoch 3 [44800/60000]\tLoss: 0.302784\n",
      "Train Accuracy:  95.52\n",
      "Train set, Epoch 3 [51200/60000]\tLoss: 0.071789\n",
      "Train Accuracy:  95.61\n",
      "Train set, Epoch 3 [57600/60000]\tLoss: 0.289861\n",
      "Train Accuracy:  95.67\n",
      "\n",
      "Test set, Epoch 3 , Average loss: 0.0518, Accuracy: 9848/10000 (98%)\n",
      "\n",
      "Train set, Epoch 4 [0/60000]\tLoss: 0.029235\n",
      "Train Accuracy:  100.0\n",
      "Train set, Epoch 4 [6400/60000]\tLoss: 0.145269\n",
      "Train Accuracy:  95.9\n",
      "Train set, Epoch 4 [12800/60000]\tLoss: 0.260752\n",
      "Train Accuracy:  96.14\n",
      "Train set, Epoch 4 [19200/60000]\tLoss: 0.037399\n",
      "Train Accuracy:  96.27\n",
      "Train set, Epoch 4 [25600/60000]\tLoss: 0.074280\n",
      "Train Accuracy:  96.32\n",
      "Train set, Epoch 4 [32000/60000]\tLoss: 0.182548\n",
      "Train Accuracy:  96.37\n",
      "Train set, Epoch 4 [38400/60000]\tLoss: 0.092613\n",
      "Train Accuracy:  96.34\n",
      "Train set, Epoch 4 [44800/60000]\tLoss: 0.250133\n",
      "Train Accuracy:  96.36\n",
      "Train set, Epoch 4 [51200/60000]\tLoss: 0.193255\n",
      "Train Accuracy:  96.42\n",
      "Train set, Epoch 4 [57600/60000]\tLoss: 0.263031\n",
      "Train Accuracy:  96.47\n",
      "\n",
      "Test set, Epoch 4 , Average loss: 0.0429, Accuracy: 9871/10000 (99%)\n",
      "\n",
      "Train set, Epoch 5 [0/60000]\tLoss: 0.110088\n",
      "Train Accuracy:  95.31\n",
      "Train set, Epoch 5 [6400/60000]\tLoss: 0.043340\n",
      "Train Accuracy:  96.78\n",
      "Train set, Epoch 5 [12800/60000]\tLoss: 0.096369\n",
      "Train Accuracy:  96.88\n",
      "Train set, Epoch 5 [19200/60000]\tLoss: 0.071052\n",
      "Train Accuracy:  96.95\n",
      "Train set, Epoch 5 [25600/60000]\tLoss: 0.009481\n",
      "Train Accuracy:  97.0\n",
      "Train set, Epoch 5 [32000/60000]\tLoss: 0.010500\n",
      "Train Accuracy:  96.91\n",
      "Train set, Epoch 5 [38400/60000]\tLoss: 0.041366\n",
      "Train Accuracy:  96.93\n",
      "Train set, Epoch 5 [44800/60000]\tLoss: 0.149607\n",
      "Train Accuracy:  96.95\n",
      "Train set, Epoch 5 [51200/60000]\tLoss: 0.087842\n",
      "Train Accuracy:  97.0\n",
      "Train set, Epoch 5 [57600/60000]\tLoss: 0.065749\n",
      "Train Accuracy:  97.02\n",
      "\n",
      "Test set, Epoch 5 , Average loss: 0.0403, Accuracy: 9881/10000 (99%)\n",
      "\n",
      "Train set, Epoch 6 [0/60000]\tLoss: 0.159965\n",
      "Train Accuracy:  93.75\n",
      "Train set, Epoch 6 [6400/60000]\tLoss: 0.070146\n",
      "Train Accuracy:  97.14\n",
      "Train set, Epoch 6 [12800/60000]\tLoss: 0.177853\n",
      "Train Accuracy:  97.12\n",
      "Train set, Epoch 6 [19200/60000]\tLoss: 0.043591\n",
      "Train Accuracy:  97.18\n",
      "Train set, Epoch 6 [25600/60000]\tLoss: 0.137816\n",
      "Train Accuracy:  97.17\n",
      "Train set, Epoch 6 [32000/60000]\tLoss: 0.043265\n",
      "Train Accuracy:  97.18\n",
      "Train set, Epoch 6 [38400/60000]\tLoss: 0.047109\n",
      "Train Accuracy:  97.28\n",
      "Train set, Epoch 6 [44800/60000]\tLoss: 0.153841\n",
      "Train Accuracy:  97.32\n",
      "Train set, Epoch 6 [51200/60000]\tLoss: 0.108131\n",
      "Train Accuracy:  97.33\n",
      "Train set, Epoch 6 [57600/60000]\tLoss: 0.075368\n",
      "Train Accuracy:  97.33\n",
      "\n",
      "Test set, Epoch 6 , Average loss: 0.0363, Accuracy: 9892/10000 (99%)\n",
      "\n",
      "Train set, Epoch 7 [0/60000]\tLoss: 0.067208\n",
      "Train Accuracy:  98.44\n",
      "Train set, Epoch 7 [6400/60000]\tLoss: 0.089062\n",
      "Train Accuracy:  97.63\n",
      "Train set, Epoch 7 [12800/60000]\tLoss: 0.121744\n",
      "Train Accuracy:  97.5\n",
      "Train set, Epoch 7 [19200/60000]\tLoss: 0.079371\n",
      "Train Accuracy:  97.6\n",
      "Train set, Epoch 7 [25600/60000]\tLoss: 0.095692\n",
      "Train Accuracy:  97.66\n",
      "Train set, Epoch 7 [32000/60000]\tLoss: 0.197893\n",
      "Train Accuracy:  97.64\n",
      "Train set, Epoch 7 [38400/60000]\tLoss: 0.016067\n",
      "Train Accuracy:  97.61\n",
      "Train set, Epoch 7 [44800/60000]\tLoss: 0.008437\n",
      "Train Accuracy:  97.59\n",
      "Train set, Epoch 7 [51200/60000]\tLoss: 0.095007\n",
      "Train Accuracy:  97.59\n",
      "Train set, Epoch 7 [57600/60000]\tLoss: 0.151026\n",
      "Train Accuracy:  97.59\n",
      "\n",
      "Test set, Epoch 7 , Average loss: 0.0313, Accuracy: 9903/10000 (99%)\n",
      "\n",
      "Train set, Epoch 8 [0/60000]\tLoss: 0.133902\n",
      "Train Accuracy:  95.31\n",
      "Train set, Epoch 8 [6400/60000]\tLoss: 0.132097\n",
      "Train Accuracy:  97.76\n",
      "Train set, Epoch 8 [12800/60000]\tLoss: 0.151425\n",
      "Train Accuracy:  97.79\n",
      "Train set, Epoch 8 [19200/60000]\tLoss: 0.013172\n",
      "Train Accuracy:  97.79\n",
      "Train set, Epoch 8 [25600/60000]\tLoss: 0.046954\n",
      "Train Accuracy:  97.74\n",
      "Train set, Epoch 8 [32000/60000]\tLoss: 0.074932\n",
      "Train Accuracy:  97.71\n",
      "Train set, Epoch 8 [38400/60000]\tLoss: 0.001705\n",
      "Train Accuracy:  97.78\n",
      "Train set, Epoch 8 [44800/60000]\tLoss: 0.042811\n",
      "Train Accuracy:  97.79\n",
      "Train set, Epoch 8 [51200/60000]\tLoss: 0.051059\n",
      "Train Accuracy:  97.8\n",
      "Train set, Epoch 8 [57600/60000]\tLoss: 0.089576\n",
      "Train Accuracy:  97.83\n",
      "\n",
      "Test set, Epoch 8 , Average loss: 0.0287, Accuracy: 9917/10000 (99%)\n",
      "\n",
      "Train set, Epoch 9 [0/60000]\tLoss: 0.031570\n",
      "Train Accuracy:  98.44\n",
      "Train set, Epoch 9 [6400/60000]\tLoss: 0.133068\n",
      "Train Accuracy:  97.69\n",
      "Train set, Epoch 9 [12800/60000]\tLoss: 0.084681\n",
      "Train Accuracy:  97.78\n",
      "Train set, Epoch 9 [19200/60000]\tLoss: 0.072684\n",
      "Train Accuracy:  97.7\n",
      "Train set, Epoch 9 [25600/60000]\tLoss: 0.061785\n",
      "Train Accuracy:  97.81\n",
      "Train set, Epoch 9 [32000/60000]\tLoss: 0.016531\n",
      "Train Accuracy:  97.86\n",
      "Train set, Epoch 9 [38400/60000]\tLoss: 0.024370\n",
      "Train Accuracy:  97.84\n",
      "Train set, Epoch 9 [44800/60000]\tLoss: 0.133082\n",
      "Train Accuracy:  97.85\n",
      "Train set, Epoch 9 [51200/60000]\tLoss: 0.029413\n",
      "Train Accuracy:  97.86\n",
      "Train set, Epoch 9 [57600/60000]\tLoss: 0.056322\n",
      "Train Accuracy:  97.89\n",
      "\n",
      "Test set, Epoch 9 , Average loss: 0.0263, Accuracy: 9925/10000 (99%)\n",
      "\n",
      "Train set, Epoch 10 [0/60000]\tLoss: 0.067651\n",
      "Train Accuracy:  98.44\n",
      "Train set, Epoch 10 [6400/60000]\tLoss: 0.010793\n",
      "Train Accuracy:  97.62\n",
      "Train set, Epoch 10 [12800/60000]\tLoss: 0.019933\n",
      "Train Accuracy:  97.86\n",
      "Train set, Epoch 10 [19200/60000]\tLoss: 0.013146\n",
      "Train Accuracy:  98.01\n",
      "Train set, Epoch 10 [25600/60000]\tLoss: 0.173456\n",
      "Train Accuracy:  97.98\n",
      "Train set, Epoch 10 [32000/60000]\tLoss: 0.043839\n",
      "Train Accuracy:  97.98\n",
      "Train set, Epoch 10 [38400/60000]\tLoss: 0.076275\n",
      "Train Accuracy:  98.02\n",
      "Train set, Epoch 10 [44800/60000]\tLoss: 0.040418\n",
      "Train Accuracy:  98.04\n",
      "Train set, Epoch 10 [51200/60000]\tLoss: 0.109770\n",
      "Train Accuracy:  98.03\n",
      "Train set, Epoch 10 [57600/60000]\tLoss: 0.100843\n",
      "Train Accuracy:  98.01\n",
      "\n",
      "Test set, Epoch 10 , Average loss: 0.0247, Accuracy: 9926/10000 (99%)\n",
      "\n"
     ]
    }
   ],
   "source": [
    "torch.manual_seed(1)\n",
    "\n",
    "model_1= CNN()\n",
    "\n",
    "lr = 0.01\n",
    "momentum = 0.5\n",
    "optimizer = optim.SGD(model_1.parameters(), lr=lr, momentum=momentum)\n",
    "m1_loss_arr = []\n",
    "m1_acc_arr = []\n",
    "\n",
    "epochs = 10\n",
    "log_interval = 100\n",
    "for epoch in range(1, epochs + 1):\n",
    "    loss, acc = train(model_1, optimizer, epoch, train_loader, log_interval=log_interval)\n",
    "    m1_loss_arr.append(loss)\n",
    "    m1_acc_arr.append(acc)\n",
    "    test(model_1, epoch, test_loader)"
   ]
  },
  {
   "cell_type": "code",
   "execution_count": 15,
   "metadata": {
    "colab": {
     "base_uri": "https://localhost:8080/",
     "height": 564
    },
    "id": "24t7bJE1nWbd",
    "outputId": "7800fd14-e361-4e8b-dd49-8bbd638de635"
   },
   "outputs": [
    {
     "data": {
      "image/png": "[encoded data removed]",
      "text/plain": [
       "<Figure size 1200x600 with 1 Axes>"
      ]
     },
     "metadata": {},
     "output_type": "display_data"
    }
   ],
   "source": [
    "plt.figure(figsize=(12,6))\n",
    "plt.plot(np.arange(1, 11, 1), m0_loss_arr, color = \"purple\")\n",
    "plt.plot(np.arange(1, 11, 1), m1_loss_arr, color = \"pink\")\n",
    "plt.title('Model Loss')\n",
    "plt.legend(['Model 1', 'Model 2'])\n",
    "plt.xlabel('Epoch')\n",
    "plt.ylabel('Loss')\n",
    "plt.show()"
   ]
  },
  {
   "cell_type": "code",
   "execution_count": 16,
   "metadata": {
    "colab": {
     "base_uri": "https://localhost:8080/",
     "height": 564
    },
    "id": "e6VoUu_qnWbe",
    "outputId": "b408660a-9569-4230-c96e-3bf4934f156c"
   },
   "outputs": [
    {
     "data": {
      "image/png": "[encoded data removed]",
      "text/plain": [
       "<Figure size 1200x600 with 1 Axes>"
      ]
     },
     "metadata": {},
     "output_type": "display_data"
    }
   ],
   "source": [
    "plt.figure(figsize=(12,6))\n",
    "plt.plot(np.arange(1, 11, 1), m0_acc_arr, color = \"purple\")\n",
    "plt.plot(np.arange(1, 11, 1), m1_acc_arr, color = \"pink\")\n",
    "plt.title('Model Accuracy')\n",
    "plt.legend(['Model 1', 'Model 2'])\n",
    "plt.xlabel('Epoch')\n",
    "plt.ylabel('Accuracy')\n",
    "plt.show()"
   ]
  },
  {
   "cell_type": "code",
   "execution_count": null,
   "metadata": {
    "id": "EClebnUxnx9B"
   },
   "outputs": [],
   "source": []
  }
 ],
 "metadata": {
  "colab": {
   "provenance": []
  },
  "interpreter": {
   "hash": "5a03e6978a913b76a01264f69485476c06bb2afb04825931e6a903524ca57e27"
  },
  "kernelspec": {
   "display_name": "Python 3 (ipykernel)",
   "language": "python",
   "name": "python3"
  },
  "language_info": {
   "codemirror_mode": {
    "name": "ipython",
    "version": 3
   },
   "file_extension": ".py",
   "mimetype": "text/x-python",
   "name": "python",
   "nbconvert_exporter": "python",
   "pygments_lexer": "ipython3",
   "version": "3.10.11"
  }
 },
 "nbformat": 4,
 "nbformat_minor": 4
}
